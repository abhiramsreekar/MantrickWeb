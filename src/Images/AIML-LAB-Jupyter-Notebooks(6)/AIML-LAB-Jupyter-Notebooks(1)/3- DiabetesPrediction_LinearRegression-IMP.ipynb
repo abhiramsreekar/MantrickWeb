{
 "cells": [
  {
   "cell_type": "markdown",
   "metadata": {},
   "source": [
    "# Steps:\n",
    "    1. What is the type of problem and learning type(Task)?\n",
    "       Figure out Datasets required, its format and apis or code to access to it(Experience).\n",
    "       Permormance metric to guide the larning(P)\n",
    "    2. Data preprocessing: Basic analysis with descriptive stats and visualizations(single and multivariate)\n",
    "       then clean or fill missing values, scale or normalize the data across features.\n",
    "    3. Split the data for train, validate and testing of the model\n",
    "    4. Model steps:\n",
    "        a) pick the model or ML alogrithm(based onlearning type) you want to use and its \n",
    "        corresponding api then import package\n",
    "        b) Create instance of the model\n",
    "        c) train the model with the train examples\n",
    "        d) [optional] validate the model by tuning model hyper parameteres or feature selections \n",
    "        iteratively till the optimum parammetr/features are chosen\n",
    "        e) evaluate the model with test data with appropriate metrics to \n",
    "        know the generalization performance.\n",
    "        f) if generalized accuracy is not good repeat steps c-e by tuning(featue selections or hyper params)\n",
    "      5. use it for prediction.\n",
    "        \n",
    "        "
   ]
  },
  {
   "cell_type": "code",
   "execution_count": 1,
   "metadata": {},
   "outputs": [],
   "source": [
    "%matplotlib inline"
   ]
  },
  {
   "cell_type": "markdown",
   "metadata": {},
   "source": [
    "\n",
    "# Linear Regression Example\n",
    "\n",
    "This example uses the only the first feature of the `diabetes` dataset, in\n",
    "order to illustrate a two-dimensional plot of this regression technique. The\n",
    "straight line can be seen in the plot, showing how linear regression attempts\n",
    "to draw a straight line that will best minimize the residual sum of squares\n",
    "between the observed responses in the dataset, and the responses predicted by\n",
    "the linear approximation.\n",
    "\n",
    "The coefficients, the residual sum of squares and the variance score are also\n",
    "calculated.\n",
    "\n",
    "\n"
   ]
  },
  {
   "cell_type": "code",
   "execution_count": 2,
   "metadata": {},
   "outputs": [
    {
     "name": "stdout",
     "output_type": "stream",
     "text": [
      "Automatically created module for IPython interactive environment\n",
      ".. _diabetes_dataset:\n",
      "\n",
      "Diabetes dataset\n",
      "----------------\n",
      "\n",
      "Ten baseline variables, age, sex, body mass index, average blood\n",
      "pressure, and six blood serum measurements were obtained for each of n =\n",
      "442 diabetes patients, as well as the response of interest, a\n",
      "quantitative measure of disease progression one year after baseline.\n",
      "\n",
      "**Data Set Characteristics:**\n",
      "\n",
      "  :Number of Instances: 442\n",
      "\n",
      "  :Number of Attributes: First 10 columns are numeric predictive values\n",
      "\n",
      "  :Target: Column 11 is a quantitative measure of disease progression one year after baseline\n",
      "\n",
      "  :Attribute Information:\n",
      "      - age     age in years\n",
      "      - sex\n",
      "      - bmi     body mass index\n",
      "      - bp      average blood pressure\n",
      "      - s1      tc, total serum cholesterol\n",
      "      - s2      ldl, low-density lipoproteins\n",
      "      - s3      hdl, high-density lipoproteins\n",
      "      - s4      tch, total cholesterol / HDL\n",
      "      - s5      ltg, possibly log of serum triglycerides level\n",
      "      - s6      glu, blood sugar level\n",
      "\n",
      "Note: Each of these 10 feature variables have been mean centered and scaled by the standard deviation times `n_samples` (i.e. the sum of squares of each column totals 1).\n",
      "\n",
      "Source URL:\n",
      "https://www4.stat.ncsu.edu/~boos/var.select/diabetes.html\n",
      "\n",
      "For more information see:\n",
      "Bradley Efron, Trevor Hastie, Iain Johnstone and Robert Tibshirani (2004) \"Least Angle Regression,\" Annals of Statistics (with discussion), 407-499.\n",
      "(https://web.stanford.edu/~hastie/Papers/LARS/LeastAngle_2002.pdf)\n"
     ]
    }
   ],
   "source": [
    "print(__doc__)\n",
    "\n",
    "import numpy as np\n",
    "from sklearn import datasets\n",
    "\n",
    "# Load the diabetes dataset\n",
    "diabetes = datasets.load_diabetes()\n",
    "print(diabetes.DESCR)"
   ]
  },
  {
   "cell_type": "code",
   "execution_count": 3,
   "metadata": {},
   "outputs": [
    {
     "name": "stdout",
     "output_type": "stream",
     "text": [
      "7\n",
      "dict_keys(['data', 'target', 'frame', 'DESCR', 'feature_names', 'data_filename', 'target_filename'])\n",
      "C:\\Users\\Dharma\\anaconda3\\lib\\site-packages\\sklearn\\datasets\\data\\diabetes_data.csv.gz\n",
      "C:\\Users\\Dharma\\anaconda3\\lib\\site-packages\\sklearn\\datasets\\data\\diabetes_target.csv.gz\n",
      "['age', 'sex', 'bmi', 'bp', 's1', 's2', 's3', 's4', 's5', 's6']\n"
     ]
    }
   ],
   "source": [
    "print(len(diabetes))\n",
    "print(diabetes.keys())\n",
    "print(diabetes.data_filename)\n",
    "print(diabetes.target_filename)\n",
    "print(diabetes.feature_names)"
   ]
  },
  {
   "cell_type": "code",
   "execution_count": 4,
   "metadata": {},
   "outputs": [
    {
     "name": "stdout",
     "output_type": "stream",
     "text": [
      "<class 'numpy.ndarray'>\n",
      "(442,)\n",
      "[151.  75. 141. 206. 135.  97. 138.  63. 110. 310.]\n"
     ]
    }
   ],
   "source": [
    "print(type(diabetes.target))\n",
    "print(diabetes.target.shape)\n",
    "print(diabetes.target[:10])"
   ]
  },
  {
   "cell_type": "code",
   "execution_count": 5,
   "metadata": {},
   "outputs": [
    {
     "name": "stdout",
     "output_type": "stream",
     "text": [
      "<class 'numpy.ndarray'>\n",
      "(442, 10)\n",
      "[[ 0.03807591  0.05068012  0.06169621  0.02187235 -0.0442235  -0.03482076\n",
      "  -0.04340085 -0.00259226  0.01990842 -0.01764613]\n",
      " [-0.00188202 -0.04464164 -0.05147406 -0.02632783 -0.00844872 -0.01916334\n",
      "   0.07441156 -0.03949338 -0.06832974 -0.09220405]]\n"
     ]
    }
   ],
   "source": [
    "print(type(diabetes.data))\n",
    "print(diabetes.data.shape)\n",
    "print(diabetes.data[:2])"
   ]
  },
  {
   "cell_type": "code",
   "execution_count": 6,
   "metadata": {},
   "outputs": [
    {
     "name": "stdout",
     "output_type": "stream",
     "text": [
      "DescribeResult(nobs=442, minmax=(array([-0.10722563, -0.04464164, -0.0902753 , -0.1123996 , -0.12678067,\n",
      "       -0.11561307, -0.10230705, -0.0763945 , -0.12609739, -0.13776723]), array([0.11072668, 0.05068012, 0.17055523, 0.13204422, 0.15391371,\n",
      "       0.19878799, 0.18117906, 0.18523444, 0.13359898, 0.13561183])), mean=array([-3.63428493e-16,  1.30834257e-16, -8.04534920e-16,  1.28165452e-16,\n",
      "       -8.83531559e-17,  1.32702421e-16, -4.57464634e-16,  3.77730150e-16,\n",
      "       -3.83085422e-16, -3.41288202e-16]), variance=array([0.00226757, 0.00226757, 0.00226757, 0.00226757, 0.00226757,\n",
      "       0.00226757, 0.00226757, 0.00226757, 0.00226757, 0.00226757]), skewness=array([-0.23059556,  0.12695182,  0.59611666,  0.2896765 ,  0.37682382,\n",
      "        0.43510876,  0.79654015,  0.73287568,  0.29078271,  0.20721035]), kurtosis=array([-0.67719869, -1.98388324,  0.08047813, -0.54031588,  0.21677706,\n",
      "        0.58105569,  0.95689553,  0.42584638, -0.14639468,  0.22070114]))\n"
     ]
    }
   ],
   "source": [
    "from scipy import stats\n",
    "print(stats.describe(diabetes.data))"
   ]
  },
  {
   "cell_type": "code",
   "execution_count": 7,
   "metadata": {},
   "outputs": [
    {
     "name": "stdout",
     "output_type": "stream",
     "text": [
      "                  0             1             2             3             4  \\\n",
      "count  4.420000e+02  4.420000e+02  4.420000e+02  4.420000e+02  4.420000e+02   \n",
      "mean  -3.634285e-16  1.308343e-16 -8.045349e-16  1.281655e-16 -8.835316e-17   \n",
      "std    4.761905e-02  4.761905e-02  4.761905e-02  4.761905e-02  4.761905e-02   \n",
      "min   -1.072256e-01 -4.464164e-02 -9.027530e-02 -1.123996e-01 -1.267807e-01   \n",
      "25%   -3.729927e-02 -4.464164e-02 -3.422907e-02 -3.665645e-02 -3.424784e-02   \n",
      "50%    5.383060e-03 -4.464164e-02 -7.283766e-03 -5.670611e-03 -4.320866e-03   \n",
      "75%    3.807591e-02  5.068012e-02  3.124802e-02  3.564384e-02  2.835801e-02   \n",
      "max    1.107267e-01  5.068012e-02  1.705552e-01  1.320442e-01  1.539137e-01   \n",
      "\n",
      "                  5             6             7             8             9  \n",
      "count  4.420000e+02  4.420000e+02  4.420000e+02  4.420000e+02  4.420000e+02  \n",
      "mean   1.327024e-16 -4.574646e-16  3.777301e-16 -3.830854e-16 -3.412882e-16  \n",
      "std    4.761905e-02  4.761905e-02  4.761905e-02  4.761905e-02  4.761905e-02  \n",
      "min   -1.156131e-01 -1.023071e-01 -7.639450e-02 -1.260974e-01 -1.377672e-01  \n",
      "25%   -3.035840e-02 -3.511716e-02 -3.949338e-02 -3.324879e-02 -3.317903e-02  \n",
      "50%   -3.819065e-03 -6.584468e-03 -2.592262e-03 -1.947634e-03 -1.077698e-03  \n",
      "75%    2.984439e-02  2.931150e-02  3.430886e-02  3.243323e-02  2.791705e-02  \n",
      "max    1.987880e-01  1.811791e-01  1.852344e-01  1.335990e-01  1.356118e-01  \n",
      "<class 'pandas.core.frame.DataFrame'>\n",
      "RangeIndex: 442 entries, 0 to 441\n",
      "Data columns (total 10 columns):\n",
      " #   Column  Non-Null Count  Dtype  \n",
      "---  ------  --------------  -----  \n",
      " 0   0       442 non-null    float64\n",
      " 1   1       442 non-null    float64\n",
      " 2   2       442 non-null    float64\n",
      " 3   3       442 non-null    float64\n",
      " 4   4       442 non-null    float64\n",
      " 5   5       442 non-null    float64\n",
      " 6   6       442 non-null    float64\n",
      " 7   7       442 non-null    float64\n",
      " 8   8       442 non-null    float64\n",
      " 9   9       442 non-null    float64\n",
      "dtypes: float64(10)\n",
      "memory usage: 34.7 KB\n",
      "None\n"
     ]
    }
   ],
   "source": [
    "import pandas as pd\n",
    "df = pd.DataFrame(diabetes.data)\n",
    "print(df.describe())\n",
    "print(df.info())"
   ]
  },
  {
   "cell_type": "code",
   "execution_count": 32,
   "metadata": {},
   "outputs": [
    {
     "name": "stdout",
     "output_type": "stream",
     "text": [
      "(442, 10)\n",
      "[[ 0.03807591  0.05068012  0.06169621  0.02187235 -0.0442235  -0.03482076\n",
      "  -0.04340085 -0.00259226  0.01990842 -0.01764613]\n",
      " [-0.00188202 -0.04464164 -0.05147406 -0.02632783 -0.00844872 -0.01916334\n",
      "   0.07441156 -0.03949338 -0.06832974 -0.09220405]]\n"
     ]
    }
   ],
   "source": [
    "# Feature selection - forward/backward\n",
    "# include only Blood Sugar\n",
    "#diabetes_X = diabetes.data[:, 9:10]\n",
    "# include  BMI & BP\n",
    "#diabetes_X = diabetes.data[:, 2:4]\n",
    "# include only BMI, BP & Sugar\n",
    "#diabetes_X = diabetes.data[:, (2,3,9)]\n",
    "\n",
    "# correlations include only BMI, BP, Sugar, one of 4-7\n",
    "#diabetes_X = diabetes.data[:, (2,3,5,9)]\n",
    "#diabetes_X = diabetes.data[:, (0,1,2,3,5,8,9)]\n",
    "\n",
    "# correlations on target include only 2,8,3,7\n",
    "#diabetes_X = diabetes.data[:, (2,3,8,7)]\n",
    "#diabetes_X = diabetes.data[:, (2,3,5,8,7,9)]\n",
    "\n",
    "#include everything\n",
    "diabetes_X = diabetes.data[:,:]\n",
    "print(diabetes_X.shape)\n",
    "print(diabetes_X[0:2])"
   ]
  },
  {
   "cell_type": "code",
   "execution_count": 53,
   "metadata": {},
   "outputs": [
    {
     "name": "stdout",
     "output_type": "stream",
     "text": [
      "(309, 10) (309,)\n",
      "(133, 10) (133,)\n"
     ]
    }
   ],
   "source": [
    "from sklearn.model_selection import train_test_split\n",
    "X_train, X_test, y_train, y_test = train_test_split(diabetes_X, diabetes.target, test_size=0.30, random_state=42)\n",
    "\n",
    "print(X_train.shape, y_train.shape)\n",
    "print(X_test.shape, y_test.shape)"
   ]
  },
  {
   "cell_type": "code",
   "execution_count": 54,
   "metadata": {},
   "outputs": [
    {
     "name": "stdout",
     "output_type": "stream",
     "text": [
      "[[ 0.03081083  0.05068012  0.03259528 ...  0.03430886  0.06301662\n",
      "   0.00306441]\n",
      " [ 0.07440129 -0.04464164  0.08540807 ... -0.00259226  0.00620932\n",
      "   0.08590655]\n",
      " [-0.05637009  0.05068012 -0.0105172  ...  0.03430886  0.02061233\n",
      "   0.0569118 ]\n",
      " ...\n",
      " [ 0.03081083 -0.04464164 -0.02021751 ... -0.03949338 -0.01090444\n",
      "  -0.0010777 ]\n",
      " [-0.01277963 -0.04464164 -0.02345095 ... -0.00259226 -0.03845911\n",
      "  -0.03835666]\n",
      " [-0.09269548 -0.04464164  0.02828403 ... -0.03949338 -0.00514531\n",
      "  -0.0010777 ]]\n",
      "[[ 1.          0.03081083  0.05068012 ...  0.03430886  0.06301662\n",
      "   0.00306441]\n",
      " [ 1.          0.07440129 -0.04464164 ... -0.00259226  0.00620932\n",
      "   0.08590655]\n",
      " [ 1.         -0.05637009  0.05068012 ...  0.03430886  0.02061233\n",
      "   0.0569118 ]\n",
      " ...\n",
      " [ 1.          0.03081083 -0.04464164 ... -0.03949338 -0.01090444\n",
      "  -0.0010777 ]\n",
      " [ 1.         -0.01277963 -0.04464164 ... -0.00259226 -0.03845911\n",
      "  -0.03835666]\n",
      " [ 1.         -0.09269548 -0.04464164 ... -0.03949338 -0.00514531\n",
      "  -0.0010777 ]]\n"
     ]
    }
   ],
   "source": [
    "print(X_train)\n",
    "X_train_x0 = np.insert(X_train, 0, 1, axis=1)\n",
    "print(X_train_x0)\n",
    "#help(np.insert)"
   ]
  },
  {
   "cell_type": "code",
   "execution_count": 56,
   "metadata": {},
   "outputs": [
    {
     "name": "stdout",
     "output_type": "stream",
     "text": [
      "[ 151.00818273   29.25034582 -261.70768053  546.29737263  388.40077257\n",
      " -901.95338706  506.761149    121.14845948  288.02932495  659.27133846\n",
      "   41.37536901]\n",
      "309\n",
      "1462.020839453645\n"
     ]
    }
   ],
   "source": [
    "#IMP\n",
    "#normal equation\n",
    "from scipy import linalg\n",
    "X_T = X_train_x0.transpose()\n",
    "X_T_X = X_T.dot(X_train_x0)\n",
    "Pinv = linalg.inv(X_T_X).dot(X_T)\n",
    "#print(Pinv)\n",
    "#print(linalg.pinv(X_train))\n",
    "coef = Pinv.dot(y_train)\n",
    "print(coef)\n",
    "E = X_train_x0.dot(coef) - y_train\n",
    "print(X_train.shape[0])\n",
    "MSE =  ((E.T ).dot(E))/(2*X_train_x0.shape[0])\n",
    "print(MSE)"
   ]
  },
  {
   "cell_type": "code",
   "execution_count": 64,
   "metadata": {},
   "outputs": [
    {
     "name": "stdout",
     "output_type": "stream",
     "text": [
      "2821.7385595843793\n",
      "1410.8692797921897\n"
     ]
    }
   ],
   "source": [
    "#Test scores\n",
    "X_test_x0 = np.insert(X_test, 0, 1, axis=1)\n",
    "TE = X_test_x0.dot(coef) - y_test\n",
    "MSE =  ((TE.T ).dot(TE))/(2*X_test_x0.shape[0])\n",
    "print(MSE*2)\n",
    "print(MSE)"
   ]
  },
  {
   "cell_type": "code",
   "execution_count": null,
   "metadata": {},
   "outputs": [],
   "source": [
    "#GD"
   ]
  },
  {
   "cell_type": "code",
   "execution_count": 61,
   "metadata": {},
   "outputs": [
    {
     "name": "stdout",
     "output_type": "stream",
     "text": [
      "Coefficients: \n",
      " [  29.25034582 -261.70768053  546.29737263  388.40077257 -901.95338706\n",
      "  506.761149    121.14845948  288.02932495  659.27133846   41.37536901]\n",
      "Bias: \n",
      " 151.00818273080338\n"
     ]
    }
   ],
   "source": [
    "from sklearn import linear_model\n",
    "\n",
    "# Create linear regression object\n",
    "regr = linear_model.LinearRegression()\n",
    "# Train the model using the training sets\n",
    "regr.fit(X_train, y_train)\n",
    "\n",
    "# The coefficients\n",
    "print('Coefficients: \\n', regr.coef_)\n",
    "print('Bias: \\n', regr.intercept_)"
   ]
  },
  {
   "cell_type": "code",
   "execution_count": 62,
   "metadata": {},
   "outputs": [
    {
     "name": "stdout",
     "output_type": "stream",
     "text": [
      "0.47729201741573324\n",
      "0.5244132008226972\n"
     ]
    }
   ],
   "source": [
    "# Test accuracy-Generalization\n",
    "print(regr.score(X_test, y_test))\n",
    "print(regr.score(X_train, y_train))"
   ]
  },
  {
   "cell_type": "code",
   "execution_count": 59,
   "metadata": {},
   "outputs": [
    {
     "name": "stdout",
     "output_type": "stream",
     "text": [
      "Mean squared error:2821.7385595843766\n",
      "Variance score: 0.47729201741573324\n"
     ]
    }
   ],
   "source": [
    "# Make predictions using the testing set\n",
    "y_pred = regr.predict(X_test)\n",
    "\n",
    "from sklearn.metrics import mean_squared_error, r2_score\n",
    "# The mean squared error\n",
    "print(\"Mean squared error:{}\".format(mean_squared_error(y_test, y_pred)))\n",
    "# Explained variance score: 1 is perfect prediction\n",
    "print('Variance score: {}'.format(r2_score(y_test, y_pred)))"
   ]
  },
  {
   "cell_type": "code",
   "execution_count": 13,
   "metadata": {},
   "outputs": [
    {
     "data": {
      "image/png": "[encoded data removed]",
      "text/plain": [
       "<Figure size 432x288 with 1 Axes>"
      ]
     },
     "metadata": {},
     "output_type": "display_data"
    }
   ],
   "source": [
    "%matplotlib inline\n",
    "import matplotlib.pyplot as plt\n",
    "# Plot outputs\n",
    "plt.scatter(X_test, y_test,  color='black')\n",
    "plt.plot(X_test, y_pred, color='blue', linewidth=3)\n",
    "\n",
    "plt.xticks(())\n",
    "plt.yticks(())\n",
    "\n",
    "plt.show()"
   ]
  },
  {
   "cell_type": "code",
   "execution_count": 14,
   "metadata": {},
   "outputs": [
    {
     "name": "stdout",
     "output_type": "stream",
     "text": [
      "          0         1         2         3         4         5         6  \\\n",
      "0  1.000000  0.173737  0.185085  0.335427  0.260061  0.219243 -0.075181   \n",
      "1  0.173737  1.000000  0.088161  0.241013  0.035277  0.142637 -0.379090   \n",
      "2  0.185085  0.088161  1.000000  0.395415  0.249777  0.261170 -0.366811   \n",
      "3  0.335427  0.241013  0.395415  1.000000  0.242470  0.185558 -0.178761   \n",
      "4  0.260061  0.035277  0.249777  0.242470  1.000000  0.896663  0.051519   \n",
      "5  0.219243  0.142637  0.261170  0.185558  0.896663  1.000000 -0.196455   \n",
      "6 -0.075181 -0.379090 -0.366811 -0.178761  0.051519 -0.196455  1.000000   \n",
      "7  0.203841  0.332115  0.413807  0.257653  0.542207  0.659817 -0.738493   \n",
      "8  0.270777  0.149918  0.446159  0.393478  0.515501  0.318353 -0.398577   \n",
      "9  0.301731  0.208133  0.388680  0.390429  0.325717  0.290600 -0.273697   \n",
      "\n",
      "          7         8         9  \n",
      "0  0.203841  0.270777  0.301731  \n",
      "1  0.332115  0.149918  0.208133  \n",
      "2  0.413807  0.446159  0.388680  \n",
      "3  0.257653  0.393478  0.390429  \n",
      "4  0.542207  0.515501  0.325717  \n",
      "5  0.659817  0.318353  0.290600  \n",
      "6 -0.738493 -0.398577 -0.273697  \n",
      "7  1.000000  0.617857  0.417212  \n",
      "8  0.617857  1.000000  0.464670  \n",
      "9  0.417212  0.464670  1.000000  \n"
     ]
    },
    {
     "data": {
      "image/png": "[encoded data removed]",
      "text/plain": [
       "<Figure size 432x288 with 2 Axes>"
      ]
     },
     "metadata": {
      "needs_background": "light"
     },
     "output_type": "display_data"
    }
   ],
   "source": [
    "#Feature selections - Correlations among features -low\n",
    "#Correlation Matrix Plot\n",
    "fig=plt.figure()\n",
    "ax=fig.add_subplot(111)\n",
    "\n",
    "correlations=df.corr()\n",
    "print(correlations)\n",
    "cax=ax.matshow(correlations,vmin=-1,vmax=1)\n",
    "fig.colorbar(cax)\n",
    "\n",
    "ticks=np.arange(0,11,1)\n",
    "ax.set_xticks(ticks)\n",
    "ax.set_yticks(ticks)\n",
    "plt.show()"
   ]
  },
  {
   "cell_type": "code",
   "execution_count": 15,
   "metadata": {},
   "outputs": [
    {
     "name": "stdout",
     "output_type": "stream",
     "text": [
      "(442, 11)\n"
     ]
    },
    {
     "data": {
      "text/html": [
       "<div>\n",
       "<style scoped>\n",
       "    .dataframe tbody tr th:only-of-type {\n",
       "        vertical-align: middle;\n",
       "    }\n",
       "\n",
       "    .dataframe tbody tr th {\n",
       "        vertical-align: top;\n",
       "    }\n",
       "\n",
       "    .dataframe thead th {\n",
       "        text-align: right;\n",
       "    }\n",
       "</style>\n",
       "<table border=\"1\" class=\"dataframe\">\n",
       "  <thead>\n",
       "    <tr style=\"text-align: right;\">\n",
       "      <th></th>\n",
       "      <th>0</th>\n",
       "      <th>1</th>\n",
       "      <th>2</th>\n",
       "      <th>3</th>\n",
       "      <th>4</th>\n",
       "      <th>5</th>\n",
       "      <th>6</th>\n",
       "      <th>7</th>\n",
       "      <th>8</th>\n",
       "      <th>9</th>\n",
       "      <th>0</th>\n",
       "    </tr>\n",
       "  </thead>\n",
       "  <tbody>\n",
       "    <tr>\n",
       "      <th>0</th>\n",
       "      <td>0.038076</td>\n",
       "      <td>0.050680</td>\n",
       "      <td>0.061696</td>\n",
       "      <td>0.021872</td>\n",
       "      <td>-0.044223</td>\n",
       "      <td>-0.034821</td>\n",
       "      <td>-0.043401</td>\n",
       "      <td>-0.002592</td>\n",
       "      <td>0.019908</td>\n",
       "      <td>-0.017646</td>\n",
       "      <td>151.0</td>\n",
       "    </tr>\n",
       "    <tr>\n",
       "      <th>1</th>\n",
       "      <td>-0.001882</td>\n",
       "      <td>-0.044642</td>\n",
       "      <td>-0.051474</td>\n",
       "      <td>-0.026328</td>\n",
       "      <td>-0.008449</td>\n",
       "      <td>-0.019163</td>\n",
       "      <td>0.074412</td>\n",
       "      <td>-0.039493</td>\n",
       "      <td>-0.068330</td>\n",
       "      <td>-0.092204</td>\n",
       "      <td>75.0</td>\n",
       "    </tr>\n",
       "    <tr>\n",
       "      <th>2</th>\n",
       "      <td>0.085299</td>\n",
       "      <td>0.050680</td>\n",
       "      <td>0.044451</td>\n",
       "      <td>-0.005671</td>\n",
       "      <td>-0.045599</td>\n",
       "      <td>-0.034194</td>\n",
       "      <td>-0.032356</td>\n",
       "      <td>-0.002592</td>\n",
       "      <td>0.002864</td>\n",
       "      <td>-0.025930</td>\n",
       "      <td>141.0</td>\n",
       "    </tr>\n",
       "    <tr>\n",
       "      <th>3</th>\n",
       "      <td>-0.089063</td>\n",
       "      <td>-0.044642</td>\n",
       "      <td>-0.011595</td>\n",
       "      <td>-0.036656</td>\n",
       "      <td>0.012191</td>\n",
       "      <td>0.024991</td>\n",
       "      <td>-0.036038</td>\n",
       "      <td>0.034309</td>\n",
       "      <td>0.022692</td>\n",
       "      <td>-0.009362</td>\n",
       "      <td>206.0</td>\n",
       "    </tr>\n",
       "    <tr>\n",
       "      <th>4</th>\n",
       "      <td>0.005383</td>\n",
       "      <td>-0.044642</td>\n",
       "      <td>-0.036385</td>\n",
       "      <td>0.021872</td>\n",
       "      <td>0.003935</td>\n",
       "      <td>0.015596</td>\n",
       "      <td>0.008142</td>\n",
       "      <td>-0.002592</td>\n",
       "      <td>-0.031991</td>\n",
       "      <td>-0.046641</td>\n",
       "      <td>135.0</td>\n",
       "    </tr>\n",
       "  </tbody>\n",
       "</table>\n",
       "</div>"
      ],
      "text/plain": [
       "          0         1         2         3         4         5         6  \\\n",
       "0  0.038076  0.050680  0.061696  0.021872 -0.044223 -0.034821 -0.043401   \n",
       "1 -0.001882 -0.044642 -0.051474 -0.026328 -0.008449 -0.019163  0.074412   \n",
       "2  0.085299  0.050680  0.044451 -0.005671 -0.045599 -0.034194 -0.032356   \n",
       "3 -0.089063 -0.044642 -0.011595 -0.036656  0.012191  0.024991 -0.036038   \n",
       "4  0.005383 -0.044642 -0.036385  0.021872  0.003935  0.015596  0.008142   \n",
       "\n",
       "          7         8         9      0  \n",
       "0 -0.002592  0.019908 -0.017646  151.0  \n",
       "1 -0.039493 -0.068330 -0.092204   75.0  \n",
       "2 -0.002592  0.002864 -0.025930  141.0  \n",
       "3  0.034309  0.022692 -0.009362  206.0  \n",
       "4 -0.002592 -0.031991 -0.046641  135.0  "
      ]
     },
     "execution_count": 15,
     "metadata": {},
     "output_type": "execute_result"
    }
   ],
   "source": [
    "#Feature selections - Correlation between feature & Target - high\n",
    "inputdf = pd.DataFrame(diabetes.data)\n",
    "outputdf = pd.DataFrame(diabetes.target)\n",
    "fulldf = pd.concat((inputdf, outputdf), axis = 1)\n",
    "print(fulldf.shape)\n",
    "fulldf.head(5)"
   ]
  },
  {
   "cell_type": "code",
   "execution_count": 16,
   "metadata": {},
   "outputs": [
    {
     "name": "stdout",
     "output_type": "stream",
     "text": [
      "          0         1         2         3         4         5         6  \\\n",
      "0  1.000000  0.173737  0.185085  0.335427  0.260061  0.219243 -0.075181   \n",
      "1  0.173737  1.000000  0.088161  0.241013  0.035277  0.142637 -0.379090   \n",
      "2  0.185085  0.088161  1.000000  0.395415  0.249777  0.261170 -0.366811   \n",
      "3  0.335427  0.241013  0.395415  1.000000  0.242470  0.185558 -0.178761   \n",
      "4  0.260061  0.035277  0.249777  0.242470  1.000000  0.896663  0.051519   \n",
      "5  0.219243  0.142637  0.261170  0.185558  0.896663  1.000000 -0.196455   \n",
      "6 -0.075181 -0.379090 -0.366811 -0.178761  0.051519 -0.196455  1.000000   \n",
      "7  0.203841  0.332115  0.413807  0.257653  0.542207  0.659817 -0.738493   \n",
      "8  0.270777  0.149918  0.446159  0.393478  0.515501  0.318353 -0.398577   \n",
      "9  0.301731  0.208133  0.388680  0.390429  0.325717  0.290600 -0.273697   \n",
      "0  0.187889  0.043062  0.586450  0.441484  0.212022  0.174054 -0.394789   \n",
      "\n",
      "          7         8         9         0  \n",
      "0  0.203841  0.270777  0.301731  0.187889  \n",
      "1  0.332115  0.149918  0.208133  0.043062  \n",
      "2  0.413807  0.446159  0.388680  0.586450  \n",
      "3  0.257653  0.393478  0.390429  0.441484  \n",
      "4  0.542207  0.515501  0.325717  0.212022  \n",
      "5  0.659817  0.318353  0.290600  0.174054  \n",
      "6 -0.738493 -0.398577 -0.273697 -0.394789  \n",
      "7  1.000000  0.617857  0.417212  0.430453  \n",
      "8  0.617857  1.000000  0.464670  0.565883  \n",
      "9  0.417212  0.464670  1.000000  0.382483  \n",
      "0  0.430453  0.565883  0.382483  1.000000  \n"
     ]
    },
    {
     "data": {
      "image/png": "[encoded data removed]",
      "text/plain": [
       "<Figure size 432x288 with 2 Axes>"
      ]
     },
     "metadata": {
      "needs_background": "light"
     },
     "output_type": "display_data"
    }
   ],
   "source": [
    "fig=plt.figure()\n",
    "ax=fig.add_subplot(111)\n",
    "\n",
    "correlations=fulldf.corr()\n",
    "print(correlations)\n",
    "cax=ax.matshow(correlations,vmin=-1,vmax=1)\n",
    "fig.colorbar(cax)\n",
    "\n",
    "ticks=np.arange(0,11,1)\n",
    "ax.set_xticks(ticks)\n",
    "ax.set_yticks(ticks)\n",
    "plt.show()"
   ]
  },
  {
   "cell_type": "code",
   "execution_count": 17,
   "metadata": {},
   "outputs": [],
   "source": [
    "#Regularization - L1, L2, L1+L2"
   ]
  },
  {
   "cell_type": "code",
   "execution_count": 18,
   "metadata": {},
   "outputs": [],
   "source": [
    "#increase model capacity  - non-linear"
   ]
  },
  {
   "cell_type": "code",
   "execution_count": 19,
   "metadata": {},
   "outputs": [
    {
     "name": "stdout",
     "output_type": "stream",
     "text": [
      "0.11590140432764173\n",
      "0.11842063173206974\n",
      "Coefficients: \n",
      " [351.2951486]\n",
      "Bias: \n",
      " [152.87720604]\n"
     ]
    }
   ],
   "source": [
    "#Using Iterative approach for optimization - SGD\n",
    "from sklearn import linear_model\n",
    "\n",
    "# Create linear regression object\n",
    "regr = linear_model.SGDRegressor(max_iter = 10000, alpha=0.0001)\n",
    "# Train the model using the training sets\n",
    "regr.fit(X_train, y_train)\n",
    "\n",
    "# Test accuracy-Generalization\n",
    "print(regr.score(X_test, y_test))\n",
    "print(regr.score(X_train, y_train))\n",
    "\n",
    "# The coefficients\n",
    "print('Coefficients: \\n', regr.coef_)\n",
    "print('Bias: \\n', regr.intercept_)\n"
   ]
  },
  {
   "cell_type": "markdown",
   "metadata": {},
   "source": [
    "# Exercises\n",
    "# try with various feature subsets and figure out which subset gives the best score\n",
    "# try above for both LinearRegression & SGDRegressor apis\n",
    "#Try with various regu;larizers like Lasso() & Elasticnet()"
   ]
  },
  {
   "cell_type": "markdown",
   "metadata": {},
   "source": [
    "# Find best model using Linear Regression algorithm with the following instructions?\n",
    "•\tUse Boston house price dataset (load_boston)\n",
    "•\tUse data pre-processing with data standardization\n",
    "•\tUse train test split – 70 %– 30%\n",
    "•\tSelect best subset of features with size – 3 and note down accuracy?"
   ]
  },
  {
   "cell_type": "markdown",
   "metadata": {},
   "source": [
    "# Find best model using Linear Regression algorithm with the following instructions?\n",
    "•\tUse Diabetes dataset (load_diabetes)\n",
    "•\tUse data pre-processing with min-max scaler\n",
    "•\tUse train test split – 75 %– 25%\n",
    "•\tSelect best subset of features using co-relations and note down accuracy? "
   ]
  }
 ],
 "metadata": {
  "kernelspec": {
   "display_name": "Python 3 (ipykernel)",
   "language": "python",
   "name": "python3"
  },
  "language_info": {
   "codemirror_mode": {
    "name": "ipython",
    "version": 3
   },
   "file_extension": ".py",
   "mimetype": "text/x-python",
   "name": "python",
   "nbconvert_exporter": "python",
   "pygments_lexer": "ipython3",
   "version": "3.9.7"
  }
 },
 "nbformat": 4,
 "nbformat_minor": 1
}
